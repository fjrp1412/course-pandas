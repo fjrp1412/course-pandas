{
 "cells": [
  {
   "cell_type": "code",
   "execution_count": null,
   "metadata": {},
   "outputs": [],
   "source": [
    "import pandas as pd\n",
    "pd.__version__\n"
   ]
  },
  {
   "cell_type": "code",
   "execution_count": null,
   "metadata": {},
   "outputs": [],
   "source": [
    "dict_data = {\n",
    "    'CO': 100,\n",
    "    'MX': 200,\n",
    "    'AR': 300\n",
    "}\n",
    "pd_series = pd.Series(dict_data)\n",
    "pd_series\n"
   ]
  },
  {
   "cell_type": "code",
   "execution_count": null,
   "metadata": {},
   "outputs": [],
   "source": [
    "dict_data = {'CH': [100, 800, 200], 'CO': [\n",
    "    100, 200, 300], 'MX': [300, 500, 400]}\n",
    "df = pd.DataFrame(dict_data)\n",
    "print(df)\n"
   ]
  },
  {
   "cell_type": "code",
   "execution_count": null,
   "metadata": {},
   "outputs": [],
   "source": [
    "import numpy as np\n"
   ]
  },
  {
   "cell_type": "code",
   "execution_count": 37,
   "metadata": {},
   "outputs": [
    {
     "name": "stdout",
     "output_type": "stream",
     "text": [
      "df = \n",
      "          edad   cm pais genero    Q1  Q2\n",
      "ana         10  115   co      M   5.0   7\n",
      "benito       9  110   mx      F  10.0   9\n",
      "camilo      13  130   co      F   8.0   9\n",
      "daniel      14  155   mx      M   NaN   8\n",
      "erika       12  125   mx      M   7.0   8\n",
      "fabian      11  120   ch      M   8.0   8\n",
      "gabriela    12  125   ch      F   3.0   9\n",
      "\n",
      "df index = \n",
      "Index(['ana', 'benito', 'camilo', 'daniel', 'erika', 'fabian', 'gabriela'], dtype='object')\n",
      "\n",
      "df columns = \n",
      "Index(['edad', 'cm', 'pais', 'genero', 'Q1', 'Q2'], dtype='object')\n",
      "\n",
      "df values = \n",
      "[[10 115 'co' 'M' 5.0 7]\n",
      " [9 110 'mx' 'F' 10.0 9]\n",
      " [13 130 'co' 'F' 8.0 9]\n",
      " [14 155 'mx' 'M' nan 8]\n",
      " [12 125 'mx' 'M' 7.0 8]\n",
      " [11 120 'ch' 'M' 8.0 8]\n",
      " [12 125 'ch' 'F' 3.0 9]]\n",
      "\n"
     ]
    }
   ],
   "source": [
    "dict_data = {\n",
    "    'edad': [10, 9, 13, 14, 12, 11, 12],\n",
    "    'cm': [115, 110, 130, 155, 125, 120, 125],\n",
    "    'pais': ['co', 'mx', 'co', 'mx', 'mx', 'ch', 'ch'],\n",
    "    'genero': ['M', 'F', 'F', 'M', 'M', 'M', 'F'],\n",
    "    'Q1': [5, 10, 8, np.nan, 7, 8, 3],\n",
    "    'Q2': [7, 9, 9, 8, 8, 8, 9]\n",
    "}\n",
    "df = pd.DataFrame(dict_data, index=[\n",
    "                  'ana', 'benito', 'camilo', 'daniel', 'erika', 'fabian', 'gabriela'])\n",
    "print(f'df = \\n{df}\\n')\n",
    "print(f'df index = \\n{df.index}\\n')\n",
    "print(f'df columns = \\n{df.columns}\\n')\n",
    "print(f'df values = \\n{df.values}\\n')\n",
    "\n",
    "\n"
   ]
  },
  {
   "cell_type": "code",
   "execution_count": null,
   "metadata": {},
   "outputs": [],
   "source": [
    "print(f'df edad de cada alumno = \\n{df[\"edad\"]}\\n' )\n",
    "\n",
    "print(f'Edad, estatura y nota de cada alumno = \\n{df[[\"edad\", \"cm\", \"Q1\"]]}\\n')"
   ]
  },
  {
   "cell_type": "code",
   "execution_count": null,
   "metadata": {},
   "outputs": [],
   "source": [
    "print(f'Datos de un estudiante especifico = \\n{df.loc[\"ana\", [\"edad\", \"cm\", \"Q1\"]]}\\n')"
   ]
  },
  {
   "cell_type": "code",
   "execution_count": 35,
   "metadata": {},
   "outputs": [
    {
     "name": "stdout",
     "output_type": "stream",
     "text": [
      "Datos de estudiantes especificos estudiante especifico = \n",
      "       edad   cm   Q1\n",
      "ana      10  115  5.0\n",
      "erika    12  125  7.0\n",
      "\n"
     ]
    }
   ],
   "source": [
    "print(f'Datos de estudiantes especificos estudiante especifico = \\n{df.loc[[\"ana\", \"erika\"], [\"edad\", \"cm\", \"Q1\"]]}\\n')"
   ]
  },
  {
   "cell_type": "code",
   "execution_count": null,
   "metadata": {},
   "outputs": [],
   "source": []
  }
 ],
 "metadata": {
  "interpreter": {
   "hash": "fed017cb881995481662130376cc5241f16d2625f5489e05ba0bc281a80eb6bc"
  },
  "kernelspec": {
   "display_name": "Python 3.9.10 64-bit ('venv': venv)",
   "language": "python",
   "name": "python3"
  },
  "language_info": {
   "codemirror_mode": {
    "name": "ipython",
    "version": 3
   },
   "file_extension": ".py",
   "mimetype": "text/x-python",
   "name": "python",
   "nbconvert_exporter": "python",
   "pygments_lexer": "ipython3",
   "version": "3.9.10"
  },
  "orig_nbformat": 4
 },
 "nbformat": 4,
 "nbformat_minor": 2
}
