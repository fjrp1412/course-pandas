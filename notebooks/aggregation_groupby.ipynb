{
 "cells": [
  {
   "cell_type": "code",
   "execution_count": null,
   "metadata": {},
   "outputs": [],
   "source": [
    "%pip install --upgrade pandas\n",
    "%pip install seaborn"
   ]
  },
  {
   "cell_type": "code",
   "execution_count": null,
   "metadata": {},
   "outputs": [],
   "source": [
    "import pandas as pd\n",
    "import numpy as np\n",
    "import seaborn as sns"
   ]
  },
  {
   "cell_type": "code",
   "execution_count": null,
   "metadata": {},
   "outputs": [],
   "source": [
    "# Carga un dataset como data frame a pandas de seaborn\n",
    "df = sns.load_dataset('diamonds')\n",
    "df"
   ]
  },
  {
   "cell_type": "code",
   "execution_count": null,
   "metadata": {},
   "outputs": [],
   "source": [
    "# Nos crea un nuevo objeto GroupBy el cual está agrupado según el parámetro indicado. Podemos realizar operaciones sobre este objeto\n",
    "df.groupby('cut')"
   ]
  },
  {
   "cell_type": "code",
   "execution_count": null,
   "metadata": {},
   "outputs": [],
   "source": [
    "\n",
    "# Promedio de los valores de los agrupamientos\n",
    "df.groupby('cut').mean()"
   ]
  },
  {
   "cell_type": "code",
   "execution_count": null,
   "metadata": {},
   "outputs": [],
   "source": [
    "\n",
    "# Mediana de los valores de los agrupamientos\n",
    "\n",
    "df.groupby('cut').median()"
   ]
  },
  {
   "cell_type": "code",
   "execution_count": null,
   "metadata": {},
   "outputs": [],
   "source": [
    "\n",
    "# Mediana en el group en el campo de carat\n",
    "\n",
    "df.groupby('cut')['carat'].median()"
   ]
  },
  {
   "cell_type": "code",
   "execution_count": null,
   "metadata": {},
   "outputs": [],
   "source": [
    "\n",
    "df.groupby('cut')['carat'].count()"
   ]
  },
  {
   "cell_type": "code",
   "execution_count": null,
   "metadata": {},
   "outputs": [],
   "source": [
    "# Iterar a través de un objeto group \n",
    "\n",
    "for key_group, group in df.groupby('cut'):\n",
    "    grouped_price = group['price'].mean()\n",
    "    print(f'Cut: {key_group}, Price: {grouped_price}\\n')"
   ]
  },
  {
   "cell_type": "code",
   "execution_count": null,
   "metadata": {},
   "outputs": [],
   "source": [
    "# Agrupar por más de un valor\n",
    "\n",
    "df.groupby(['cut', 'color'])"
   ]
  },
  {
   "cell_type": "code",
   "execution_count": null,
   "metadata": {},
   "outputs": [],
   "source": [
    "# Visualizar el group como un data frame (además de otras operaciones)\n",
    "\n",
    "df.groupby(['cut', 'color'])['price'].mean().to_frame()"
   ]
  },
  {
   "cell_type": "code",
   "execution_count": null,
   "metadata": {},
   "outputs": [],
   "source": [
    "# Podemos definir que funciones aplicarle al group que estamos manejando con agregate, generando un nuevo data frame\n",
    "\n",
    "df.groupby(['cut', 'color'])['price'].aggregate(['min', np.mean, max])"
   ]
  },
  {
   "cell_type": "code",
   "execution_count": null,
   "metadata": {},
   "outputs": [],
   "source": [
    "def mean_kg(x):\n",
    "    return np.mean(x)/1000"
   ]
  },
  {
   "cell_type": "code",
   "execution_count": null,
   "metadata": {},
   "outputs": [],
   "source": [
    "# Podemos aplicar funciones creadas por nosotros dentro del aggregate y se verán reflejadas en el data frame\n",
    "\n",
    "df.groupby(['cut', 'color'])['price'].aggregate(['min', np.mean, max, mean_kg]).head(10)"
   ]
  },
  {
   "cell_type": "code",
   "execution_count": null,
   "metadata": {},
   "outputs": [],
   "source": [
    "# Podemos crear un diccionario donde definimos que variables del group by queremos manejar y que funciones aplicarles a esas variables\n",
    "# en especifico\n",
    "\n",
    "dict_agg = {'carat': [min, max], 'price': [np.mean, mean_kg]}\n",
    "\n",
    "df.groupby(['cut', 'color']).aggregate(dict_agg)"
   ]
  },
  {
   "cell_type": "code",
   "execution_count": null,
   "metadata": {},
   "outputs": [],
   "source": [
    "def f_filter(x):\n",
    "    return mean_kg(x['price']) > 4"
   ]
  },
  {
   "cell_type": "code",
   "execution_count": null,
   "metadata": {},
   "outputs": [],
   "source": [
    "# Podemos aplicar filtros a nuestros group by\n",
    "df.groupby('cut').filter(f_filter)"
   ]
  },
  {
   "cell_type": "code",
   "execution_count": null,
   "metadata": {},
   "outputs": [],
   "source": [
    "df.groupby('cut').filter(f_filter)['cut'].unique()"
   ]
  },
  {
   "cell_type": "code",
   "execution_count": null,
   "metadata": {},
   "outputs": [],
   "source": []
  }
 ],
 "metadata": {
  "interpreter": {
   "hash": "fed017cb881995481662130376cc5241f16d2625f5489e05ba0bc281a80eb6bc"
  },
  "kernelspec": {
   "display_name": "Python 3.9.10 ('venv': venv)",
   "language": "python",
   "name": "python3"
  },
  "language_info": {
   "codemirror_mode": {
    "name": "ipython",
    "version": 3
   },
   "file_extension": ".py",
   "mimetype": "text/x-python",
   "name": "python",
   "nbconvert_exporter": "python",
   "pygments_lexer": "ipython3",
   "version": "3.9.10"
  },
  "orig_nbformat": 4
 },
 "nbformat": 4,
 "nbformat_minor": 2
}
