{
 "cells": [
  {
   "cell_type": "code",
   "execution_count": null,
   "id": "89062202",
   "metadata": {},
   "outputs": [],
   "source": [
    "import numpy as np\n"
   ]
  },
  {
   "cell_type": "code",
   "execution_count": null,
   "id": "0c0f4be8",
   "metadata": {},
   "outputs": [],
   "source": [
    "np_array = np.array([1, 2, 3, 4, 5])  # Array de numpy\n",
    "array = [1, 2, 3, 4, 5]  # Array de python\n",
    "print(np_array)\n",
    "print(array)\n"
   ]
  },
  {
   "cell_type": "code",
   "execution_count": null,
   "id": "4ffa41ca",
   "metadata": {},
   "outputs": [],
   "source": [
    "print(array + [10])\n",
    "print(np_array + 10)\n"
   ]
  },
  {
   "cell_type": "code",
   "execution_count": null,
   "id": "bb816c4e",
   "metadata": {},
   "outputs": [],
   "source": [
    "np_array.shape\n"
   ]
  },
  {
   "cell_type": "code",
   "execution_count": null,
   "metadata": {},
   "outputs": [],
   "source": [
    "np_array = np.array([[1, 2, 3, 4], [6, 7, 8, 9]])\n",
    "np_array.shape\n"
   ]
  },
  {
   "cell_type": "code",
   "execution_count": null,
   "id": "fada0211",
   "metadata": {},
   "outputs": [],
   "source": [
    "np_array[0]\n"
   ]
  },
  {
   "cell_type": "code",
   "execution_count": null,
   "id": "8e5fa471",
   "metadata": {},
   "outputs": [],
   "source": [
    "import pandas as pd\n",
    "series = pd.Series([10, 9, 8, 7, 6])\n",
    "print(f'series = \\n{series}\\n')\n",
    "print(f'series values = \\n{series.values}\\n')\n",
    "print(f'series index = \\n{series.index}\\n')\n",
    "print(f'series shape = \\n{series.shape}\\n')\n",
    "print(f'series primer index = {series[0]}\\n')\n",
    "print(f'series indices indicados y en ese orden ={series[[0, 4, 2]]}')\n"
   ]
  },
  {
   "cell_type": "code",
   "execution_count": null,
   "id": "d43dfbcf",
   "metadata": {},
   "outputs": [],
   "source": [
    "series = pd.Series([10, 9, 8, 7, 6], index=['a', 'b', 'c', 'd', 'e'])\n",
    "print(series)\n",
    "print(series['c'])\n",
    "print(series[['c', 'd']])\n",
    "print(series['b': 'e'])\n"
   ]
  },
  {
   "cell_type": "code",
   "execution_count": null,
   "id": "52ca634a",
   "metadata": {},
   "outputs": [],
   "source": [
    "dict_data = {\n",
    "    'CO': 100,\n",
    "    'MX': 200,\n",
    "    'AR': 300\n",
    "}\n",
    "print(dict_data)\n",
    "\n",
    "pd_series = pd.Series(dict_data)\n",
    "print(pd_series)\n",
    "\n",
    "pd_series = pd.Series(dict_data, index=['CO', 'MX', 'PE'])\n",
    "print(pd_series)\n",
    "\n",
    "print(pd_series.isnull())\n",
    "\n",
    "print(pd_series.notnull())\n"
   ]
  },
  {
   "cell_type": "code",
   "execution_count": null,
   "metadata": {},
   "outputs": [],
   "source": [
    "import numpy as np\n",
    "\n",
    "print(np.nan)\n",
    "print(np.nan * 10)\n"
   ]
  }
 ],
 "metadata": {
  "kernelspec": {
   "display_name": "Python 3 (ipykernel)",
   "language": "python",
   "name": "python3"
  },
  "language_info": {
   "codemirror_mode": {
    "name": "ipython",
    "version": 3
   },
   "file_extension": ".py",
   "mimetype": "text/x-python",
   "name": "python",
   "nbconvert_exporter": "python",
   "pygments_lexer": "ipython3",
   "version": "3.9.10"
  }
 },
 "nbformat": 4,
 "nbformat_minor": 5
}
